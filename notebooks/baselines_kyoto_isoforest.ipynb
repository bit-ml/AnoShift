{
 "cells": [
  {
   "cell_type": "code",
   "execution_count": 23,
   "metadata": {},
   "outputs": [
    {
     "name": "stdout",
     "output_type": "stream",
     "text": [
      "The autoreload extension is already loaded. To reload it, use:\n",
      "  %reload_ext autoreload\n"
     ]
    }
   ],
   "source": [
    "%load_ext autoreload\n",
    "%autoreload 2"
   ]
  },
  {
   "cell_type": "code",
   "execution_count": 24,
   "metadata": {},
   "outputs": [],
   "source": [
    "import torch\n",
    "import matplotlib.pyplot as plt\n",
    "import seaborn as sns\n",
    "import numpy as np\n",
    "import pandas as pd\n",
    "from collections import Counter\n",
    "import collections\n",
    "\n",
    "from sklearn.model_selection import train_test_split\n",
    "\n",
    "from sklearn.ensemble import IsolationForest\n",
    "from sklearn.neighbors import LocalOutlierFactor\n",
    "from sklearn.linear_model import SGDOneClassSVM\n",
    "from sklearn.svm import OneClassSVM\n",
    "\n",
    "from sklearn.preprocessing import OneHotEncoder, RobustScaler\n",
    "from sklearn.metrics import roc_auc_score, accuracy_score, confusion_matrix, auc\n",
    "from sklearn.metrics import precision_recall_fscore_support, precision_recall_curve, f1_score\n",
    "\n",
    "pd.options.mode.chained_assignment = None "
   ]
  },
  {
   "cell_type": "code",
   "execution_count": 34,
   "metadata": {},
   "outputs": [],
   "source": [
    "def load_train_year(year):\n",
    "    if year <= 2010:\n",
    "        df = pd.read_csv(f'../datasets/kyoto-2016/logbins_labels_dupskyoto-2016_{year}_subset_300000.csv', \n",
    "                          engine=\"python\", index_col=[0])\n",
    "    else:\n",
    "        sys.exit(-1)\n",
    "    df = df.reset_index(drop=True)\n",
    "    return df.sample(frac=0.05).dropna()\n",
    "\n",
    "def load_test_year(year):\n",
    "    if year <= 2010:\n",
    "        df = pd.read_csv(f'../datasets/kyoto-2016/logbins_labels_dupskyoto-2016_{year}_subset_300000_valid.csv', \n",
    "                              engine=\"python\", index_col=[0])\n",
    "    else:\n",
    "        df = pd.read_csv(f'../datasets/kyoto-2016/logbins_labels_dupskyoto-2016_{year}_subset_300000.csv', \n",
    "                              engine=\"python\", index_col=[0])\n",
    "    df = df.reset_index(drop=True)\n",
    "    return df.sample(frac=0.05).dropna()\n",
    "\n",
    "\n",
    "# categorical columns: \"0\", \"1\", \"2\", \"3\"\n",
    "# additional features columns: \n",
    "# # \"14\" - timestamp\n",
    "# # \"15\", \"16\", \"17\" - labels\n",
    "# # \"19\" - additional\n",
    "# label column: \"18\"\n",
    "\n",
    "def rename_columns(df):\n",
    "    categorical_cols = [\"0\", \"1\", \"2\", \"3\"]\n",
    "    numerical_cols = [\"4\", \"5\", \"6\", \"7\", \"8\", \"9\", \"10\", \"11\", \"12\"]\n",
    "    additional_cols = [\"14\", \"15\", \"16\", \"17\", \"19\"]\n",
    "    label_col = [\"18\"]\n",
    "\n",
    "    new_names = []\n",
    "    for col_name in df.columns.values:\n",
    "        if col_name in numerical_cols:\n",
    "            new_names.append((col_name, \"num_\" + col_name))\n",
    "        elif col_name in categorical_cols:\n",
    "            new_names.append((col_name, \"cat_\" + col_name))\n",
    "        elif col_name in additional_cols:\n",
    "            new_names.append((col_name, \"bonus_\" + col_name))\n",
    "        elif col_name in label_col:\n",
    "            new_names.append((col_name, \"label\"))\n",
    "        else:\n",
    "            new_names.append((col_name, col_name))\n",
    "    df.rename(columns=dict(new_names), inplace=True)\n",
    "    return df\n",
    "\n",
    "def preprocess(df, enc=None):\n",
    "    if not enc:\n",
    "        enc = OneHotEncoder(handle_unknown='ignore')\n",
    "        enc.fit(df.loc[:,['cat_' in i for i in df.columns]])\n",
    "    \n",
    "    num_cat_features = enc.transform(df.loc[:,['cat_' in i for i in df.columns]]).toarray()\n",
    "\n",
    "    df_catnum = pd.DataFrame(num_cat_features)\n",
    "    df_catnum = df_catnum.add_prefix('catnum_')\n",
    "\n",
    "    df.reset_index(drop=True)\n",
    "    df_new = pd.concat([df,  df_catnum], axis=1)\n",
    "    \n",
    "    \n",
    "    filter_clear = df_new[\"label\"] == 1\n",
    "    filter_infected = df_new[\"label\"] < 0\n",
    "    df_new[\"label\"][filter_clear] = 0\n",
    "    df_new[\"label\"][filter_infected] = 1\n",
    "\n",
    "    return df_new, enc\n",
    "\n",
    "\n",
    "def print_results(labels, preds, text=\"?\", normalize=\"true\", th=0.5):\n",
    "    # percent = int(sum(labels))*100/len(labels)\n",
    "#     print(\"Anomalies: %.2f%% (%d/%d)\" % (percent, int(sum(labels)), len(labels)))\n",
    "#     print(confusion_matrix(labels, np.array(preds)>=th, normalize=normalize))\n",
    "#     ConfusionMatrixDisplay.from_predictions(labels, np.array(preds)>=th, normalize=normalize)\n",
    "    \n",
    "    precision_anom, recall_anom, th_anom = precision_recall_curve(labels, preds, pos_label=1)\n",
    "#     print(\"anom\", precision_anom, recall_anom, th_anom)\n",
    "    precision_norm, recall_norm, th_norm = precision_recall_curve(labels, 1-np.array(preds), pos_label=0)\n",
    "    \n",
    "    prec, recall, _, _ = precision_recall_fscore_support(labels, np.array(preds)>=th)\n",
    "    f1_norm, f1_anom = f1_score(labels, np.array(preds)>=th, average=None)\n",
    "    \n",
    "    # Use AUC function to calculate the area under the curve of precision recall curve\n",
    "    pr_auc_norm = auc(recall_norm, precision_norm)\n",
    "    pr_auc_anom = auc(recall_anom, precision_anom)\n",
    "    \n",
    "    roc_auc = roc_auc_score(labels, preds)\n",
    "    \n",
    "#     print(\"\\nRecall-norm    %.2f%% | Recall-anom    %.2f%%\" % (recall[0]*100, recall[1]*100))\n",
    "#     print(\"Precision-norm %.2f%% | Precision-anom %.2f%%\" % (prec[0]*100, prec[1]*100))\n",
    "#     print(\"F1-norm        %.2f%% | F1-anom        %.2f%%\" % (f1_norm*100, f1_anom*100))    \n",
    "    print(\"[%s] ROC-AUC     %.2f%% | PR-AUC-norm    %.2f%% | PR-AUC-anom    %.2f%%\" % (text, roc_auc*100, pr_auc_norm*100, pr_auc_anom*100))\n",
    "    global_roc.append(roc_auc*100)\n",
    "    global_pr_norm.append(pr_auc_norm*100)\n",
    "    global_pr_anom.append(pr_auc_anom*100)\n",
    "#     print(\"pt tabel\")\n",
    "#     print(\"%.2f\\n%.2f\\n%.2f\" % (roc_auc*100, pr_auc_norm*100, pr_auc_anom*100))\n",
    "    return f1_anom, pr_auc_anom"
   ]
  },
  {
   "cell_type": "code",
   "execution_count": 35,
   "metadata": {},
   "outputs": [],
   "source": [
    "def get_train(train_years):\n",
    "    dfs = []\n",
    "\n",
    "    for year in train_years: \n",
    "        df_year = load_train_year(year)\n",
    "        dfs.append(df_year)\n",
    "        print(year, df_year[df_year[\"18\"] == 1].shape)\n",
    "    #     print(year, df_year.shape)\n",
    "    df_all_years = pd.concat(dfs, ignore_index=True)\n",
    "    df_all_years = rename_columns(df_all_years)\n",
    "    df_new, ohe_enc = preprocess(df_all_years)    \n",
    "\n",
    "\n",
    "    # split train + val\n",
    "    X_train, X_val = train_test_split(df_new, test_size=0.001, random_state=0, shuffle=True)\n",
    "\n",
    "    # prepare for isoforest\n",
    "    isoforest_cols = df_new.columns.to_numpy()[['num_' in i for i in df_new.columns]]\n",
    "\n",
    "    X_train_iso_all = X_train[isoforest_cols].to_numpy()\n",
    "    y_train_iso_all = X_train[\"label\"].to_numpy()\n",
    "\n",
    "    X_train_clear = X_train[X_train[\"label\"] == 0]\n",
    "    X_train_iso = X_train_clear[isoforest_cols].to_numpy()\n",
    "\n",
    "    X_val_iso = X_val[isoforest_cols].to_numpy()\n",
    "    y_val_iso = X_val[\"label\"].to_numpy()\n",
    "    return X_train_iso, X_val_iso, y_val_iso, isoforest_cols, ohe_enc"
   ]
  },
  {
   "cell_type": "code",
   "execution_count": 39,
   "metadata": {
    "scrolled": false
   },
   "outputs": [
    {
     "name": "stdout",
     "output_type": "stream",
     "text": [
      "[2006, 2007, 2008] [2006, 2007, 2008]\n",
      "2006 (2551, 21)\n",
      "2007 (14994, 21)\n",
      "2008 (14951, 21)\n"
     ]
    },
    {
     "name": "stderr",
     "output_type": "stream",
     "text": [
      "[Parallel(n_jobs=10)]: Using backend ThreadingBackend with 10 concurrent workers.\n",
      "[Parallel(n_jobs=10)]: Done   2 out of  10 | elapsed:    2.8s remaining:   11.1s\n",
      "[Parallel(n_jobs=10)]: Done  10 out of  10 | elapsed:    2.9s finished\n"
     ]
    },
    {
     "name": "stdout",
     "output_type": "stream",
     "text": [
      "Done fitting\n",
      "[2006] ROC-AUC     17.21% | PR-AUC-norm    37.80% | PR-AUC-anom    30.31%\n",
      "[2007] ROC-AUC     38.39% | PR-AUC-norm    85.83% | PR-AUC-anom    11.09%\n",
      "[2008] ROC-AUC     34.44% | PR-AUC-norm    89.40% | PR-AUC-anom    7.25%\n",
      "[2006, 2007, 2008] [2006, 2007, 2008] 10\n",
      "17.21\t38.39\t34.44\t\n",
      "37.80\t85.83\t89.40\t\n",
      "30.31\t11.09\t7.25\t\n",
      "===================================\n",
      "\n",
      "\n"
     ]
    },
    {
     "data": {
      "image/png": "[encoded data removed]",
      "text/plain": [
       "<Figure size 432x288 with 1 Axes>"
      ]
     },
     "metadata": {
      "needs_background": "light"
     },
     "output_type": "display_data"
    },
    {
     "name": "stdout",
     "output_type": "stream",
     "text": [
      "[2006, 2007, 2008] [2006, 2007, 2008]\n",
      "2006 (2474, 21)\n",
      "2007 (15028, 21)\n",
      "2008 (15004, 21)\n"
     ]
    },
    {
     "name": "stderr",
     "output_type": "stream",
     "text": [
      "[Parallel(n_jobs=10)]: Using backend ThreadingBackend with 10 concurrent workers.\n",
      "[Parallel(n_jobs=10)]: Done   2 out of  10 | elapsed:    2.6s remaining:   10.5s\n",
      "[Parallel(n_jobs=10)]: Done  10 out of  10 | elapsed:    2.8s finished\n"
     ]
    },
    {
     "name": "stdout",
     "output_type": "stream",
     "text": [
      "Done fitting\n",
      "[2006] ROC-AUC     21.43% | PR-AUC-norm    38.90% | PR-AUC-anom    32.74%\n",
      "[2007] ROC-AUC     38.04% | PR-AUC-norm    82.85% | PR-AUC-anom    10.87%\n",
      "[2008] ROC-AUC     33.98% | PR-AUC-norm    87.71% | PR-AUC-anom    6.80%\n",
      "[2006, 2007, 2008] [2006, 2007, 2008] 15\n",
      "21.43\t38.04\t33.98\t\n",
      "38.90\t82.85\t87.71\t\n",
      "32.74\t10.87\t6.80\t\n",
      "===================================\n",
      "\n",
      "\n"
     ]
    },
    {
     "data": {
      "image/png": "[encoded data removed]",
      "text/plain": [
       "<Figure size 432x288 with 1 Axes>"
      ]
     },
     "metadata": {
      "needs_background": "light"
     },
     "output_type": "display_data"
    },
    {
     "name": "stdout",
     "output_type": "stream",
     "text": [
      "[2006, 2007, 2008] [2006, 2007, 2008]\n",
      "2006 (2484, 21)\n",
      "2007 (15040, 21)\n",
      "2008 (14986, 21)\n"
     ]
    },
    {
     "name": "stderr",
     "output_type": "stream",
     "text": [
      "[Parallel(n_jobs=10)]: Using backend ThreadingBackend with 10 concurrent workers.\n",
      "[Parallel(n_jobs=10)]: Done   2 out of  10 | elapsed:    2.7s remaining:   10.9s\n",
      "[Parallel(n_jobs=10)]: Done  10 out of  10 | elapsed:    2.9s finished\n"
     ]
    },
    {
     "name": "stdout",
     "output_type": "stream",
     "text": [
      "Done fitting\n",
      "[2006] ROC-AUC     14.56% | PR-AUC-norm    37.30% | PR-AUC-anom    29.71%\n",
      "[2007] ROC-AUC     40.17% | PR-AUC-norm    87.02% | PR-AUC-anom    11.09%\n",
      "[2008] ROC-AUC     38.74% | PR-AUC-norm    90.48% | PR-AUC-anom    7.84%\n",
      "[2006, 2007, 2008] [2006, 2007, 2008] 20\n",
      "14.56\t40.17\t38.74\t\n",
      "37.30\t87.02\t90.48\t\n",
      "29.71\t11.09\t7.84\t\n",
      "===================================\n",
      "\n",
      "\n"
     ]
    },
    {
     "data": {
      "image/png": "[encoded data removed]",
      "text/plain": [
       "<Figure size 432x288 with 1 Axes>"
      ]
     },
     "metadata": {
      "needs_background": "light"
     },
     "output_type": "display_data"
    }
   ],
   "source": [
    "pair_years = []\n",
    "pair_years.append(([2006, 2007, 2008,], [2006, 2007, 2008, ]))\n",
    "    \n",
    "for rs in [10, 15, 20]:\n",
    "    for train_years, test_years in pair_years:\n",
    "        global_roc = []\n",
    "        global_pr_norm = []\n",
    "        global_pr_anom = []\n",
    "\n",
    "        print(train_years, test_years)\n",
    "        X_train_iso, X_val_iso, y_val_iso, isoforest_cols, ohe_enc = get_train(train_years)\n",
    "        clf = IsolationForest(random_state=rs,\n",
    "                          n_estimators=101,\n",
    "                          max_samples=1.0,\n",
    "                          max_features=1.0,\n",
    "                          verbose=1,\n",
    "                          warm_start=False,\n",
    "                          n_jobs=10)\n",
    "        clf.fit(X_train_iso)\n",
    "\n",
    "        del X_train_iso\n",
    "            \n",
    "        print(\"Done fitting\")\n",
    "        for year in test_years:\n",
    "            df_year = load_test_year(year)\n",
    "            df_year = rename_columns(df_year)\n",
    "            df_test, _ = preprocess(df_year, ohe_enc)\n",
    "\n",
    "            X_test = df_test[isoforest_cols].to_numpy()\n",
    "            y_test = df_test[\"label\"].to_numpy()\n",
    "\n",
    "            X_test = np.nan_to_num(X_test)\n",
    "\n",
    "            predict_test = (-1) * clf.score_samples(X_test)\n",
    "            predict_test = np.nan_to_num(predict_test, 0)\n",
    "            y_test = np.nan_to_num(y_test, 0)\n",
    "            print_results(y_test, predict_test, text=str(year), normalize=None, th=0.35)\n",
    "            del df_test, df_year, X_test\n",
    "\n",
    "        print(train_years, test_years, rs)\n",
    "        for i, year in enumerate(test_years):\n",
    "            print(\"%.2f\\t\" % (global_roc[i]), end = '')\n",
    "        print(\"\")\n",
    "        for i, year in enumerate(test_years):\n",
    "            print(\"%.2f\\t\" % (global_pr_norm[i]), end = '')\n",
    "        print(\"\")\n",
    "\n",
    "        for i, year in enumerate(test_years):\n",
    "            print(\"%.2f\\t\" % (global_pr_anom[i]), end = '')\n",
    "        print(\"\\n===================================\\n\\n\")\n",
    "\n",
    "        plt.plot(global_roc, label='ROC')\n",
    "        plt.plot(global_pr_norm, label=\"normals\")\n",
    "        plt.plot(global_pr_anom, label='anom')\n",
    "        plt.legend()\n",
    "        plt.show()\n"
   ]
  },
  {
   "cell_type": "markdown",
   "metadata": {},
   "source": []
  }
 ],
 "metadata": {
  "interpreter": {
   "hash": "12b2880bf09b1caaaa3c54011e1716d5122080b8d35d1e054682590dca2aaa7f"
  },
  "kernelspec": {
   "display_name": "Python 3.8.12 ('env_ml_py38')",
   "language": "python",
   "name": "python3"
  },
  "language_info": {
   "codemirror_mode": {
    "name": "ipython",
    "version": 3
   },
   "file_extension": ".py",
   "mimetype": "text/x-python",
   "name": "python",
   "nbconvert_exporter": "python",
   "pygments_lexer": "ipython3",
   "version": "3.8.12"
  }
 },
 "nbformat": 4,
 "nbformat_minor": 2
}
