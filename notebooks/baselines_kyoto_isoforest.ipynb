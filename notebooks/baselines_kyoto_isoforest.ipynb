{
 "cells": [
  {
   "cell_type": "markdown",
   "metadata": {},
   "source": [
    "# Testing IsoForest baseline on Kyoto-2006+ data\n"
   ]
  },
  {
   "cell_type": "code",
   "execution_count": 6,
   "metadata": {},
   "outputs": [
    {
     "name": "stdout",
     "output_type": "stream",
     "text": [
      "The autoreload extension is already loaded. To reload it, use:\n",
      "  %reload_ext autoreload\n"
     ]
    }
   ],
   "source": [
    "%load_ext autoreload\n",
    "%autoreload 2"
   ]
  },
  {
   "cell_type": "code",
   "execution_count": 7,
   "metadata": {},
   "outputs": [],
   "source": [
    "import matplotlib.pyplot as plt\n",
    "import numpy as np\n",
    "import pandas as pd\n",
    "\n",
    "from sklearn.model_selection import train_test_split\n",
    "from sklearn.ensemble import IsolationForest\n",
    "from sklearn.preprocessing import OneHotEncoder\n",
    "from sklearn.metrics import roc_auc_score, auc\n",
    "from sklearn.metrics import precision_recall_fscore_support, precision_recall_curve, f1_score\n",
    "\n",
    "pd.options.mode.chained_assignment = None "
   ]
  },
  {
   "cell_type": "code",
   "execution_count": 8,
   "metadata": {},
   "outputs": [],
   "source": [
    "def load_train_year(year):\n",
    "    if year <= 2010:\n",
    "        df = pd.read_parquet(f'../datasets/Kyoto-2016_AnoShift/subset/{year}_subset.parquet')\n",
    "    else:\n",
    "        import sys\n",
    "        sys.exit(-1)\n",
    "    df = df.reset_index(drop=True)\n",
    "    print(df.shape)\n",
    "    return df.sample(frac=0.05).dropna()\n",
    "\n",
    "def load_test_year(year):\n",
    "    if year <= 2010:\n",
    "        df = pd.read_parquet(f'../datasets/Kyoto-2016_AnoShift/subset/{year}_subset_valid.parquet')\n",
    "    else:\n",
    "        df = pd.read_parquet(f'../datasets/Kyoto-2016_AnoShift/subset/{year}_subset.parquet')\n",
    "\n",
    "    df = df.reset_index(drop=True)\n",
    "    return df.sample(frac=0.05).dropna()\n",
    "\n",
    "\n",
    "def rename_columns(df):    \n",
    "    categorical_cols = [\"0\", \"1\", \"2\", \"3\"]\n",
    "    numerical_cols = [\"4\", \"5\", \"6\", \"7\", \"8\", \"9\", \"10\", \"11\", \"12\"]\n",
    "    additional_cols = [\"14\", \"15\", \"16\", \"17\", \"19\"]\n",
    "    label_col = [\"18\"]\n",
    "\n",
    "    new_names = []\n",
    "    for col_name in df.columns.astype(str).values:\n",
    "        if col_name in numerical_cols:\n",
    "            df[col_name] = pd.to_numeric(df[col_name])\n",
    "            new_names.append((col_name, \"num_\" + col_name))\n",
    "        elif col_name in categorical_cols:\n",
    "            new_names.append((col_name, \"cat_\" + col_name))\n",
    "        elif col_name in additional_cols:\n",
    "            new_names.append((col_name, \"bonus_\" + col_name))\n",
    "        elif col_name in label_col:\n",
    "            df[col_name] = pd.to_numeric(df[col_name])\n",
    "            new_names.append((col_name, \"label\"))\n",
    "        else:\n",
    "            new_names.append((col_name, col_name))\n",
    "    df.rename(columns=dict(new_names), inplace=True)\n",
    "    \n",
    "    return df\n",
    "\n",
    "def preprocess(df, enc=None):\n",
    "    if not enc:\n",
    "        enc = OneHotEncoder(handle_unknown='ignore')\n",
    "        enc.fit(df.loc[:,['cat_' in i for i in df.columns]])\n",
    "    \n",
    "    num_cat_features = enc.transform(df.loc[:,['cat_' in i for i in df.columns]]).toarray()\n",
    "\n",
    "    df_catnum = pd.DataFrame(num_cat_features)\n",
    "    df_catnum = df_catnum.add_prefix('catnum_')\n",
    "\n",
    "    df.reset_index(drop=True)\n",
    "    df_new = pd.concat([df,  df_catnum], axis=1)\n",
    "    \n",
    "    \n",
    "    filter_clear = df_new[\"label\"] == 1\n",
    "    filter_infected = df_new[\"label\"] < 0\n",
    "    df_new[\"label\"][filter_clear] = 0\n",
    "    df_new[\"label\"][filter_infected] = 1\n",
    "\n",
    "    return df_new, enc\n",
    "\n",
    "\n",
    "def print_results(labels, preds, text=\"?\", normalize=\"true\", th=0.5):\n",
    "    precision_anom, recall_anom, th_anom = precision_recall_curve(labels, preds, pos_label=1)\n",
    "    precision_norm, recall_norm, th_norm = precision_recall_curve(labels, 1-np.array(preds), pos_label=0)\n",
    "    \n",
    "    prec, recall, _, _ = precision_recall_fscore_support(labels, np.array(preds)>=th)\n",
    "    f1_norm, f1_anom = f1_score(labels, np.array(preds)>=th, average=None)\n",
    "    \n",
    "    # Use AUC function to calculate the area under the curve of precision recall curve\n",
    "    pr_auc_norm = auc(recall_norm, precision_norm)\n",
    "    pr_auc_anom = auc(recall_anom, precision_anom)\n",
    "    \n",
    "    roc_auc = roc_auc_score(labels, preds)\n",
    "    \n",
    "    print(\"[%s] ROC-AUC     %.2f%% | PR-AUC-norm    %.2f%% | PR-AUC-anom    %.2f%%\" % (text, roc_auc*100, pr_auc_norm*100, pr_auc_anom*100))\n",
    "    global_roc.append(roc_auc*100)\n",
    "    global_pr_norm.append(pr_auc_norm*100)\n",
    "    global_pr_anom.append(pr_auc_anom*100)\n",
    "\n",
    "    return f1_anom, pr_auc_anom"
   ]
  },
  {
   "cell_type": "code",
   "execution_count": 9,
   "metadata": {},
   "outputs": [],
   "source": [
    "def get_train(train_years):\n",
    "    dfs = []\n",
    "\n",
    "    for year in train_years:\n",
    "        df_year = load_train_year(year)\n",
    "        dfs.append(df_year)\n",
    "\n",
    "    df_all_years = pd.concat(dfs, ignore_index=True)\n",
    "    df_all_years = rename_columns(df_all_years)\n",
    "    df_new, ohe_enc = preprocess(df_all_years)\n",
    "\n",
    "    # split train + val\n",
    "    X_train, X_val = train_test_split(df_new, test_size=0.001, random_state=0, shuffle=True)\n",
    "\n",
    "    # prepare for isoforest\n",
    "    isoforest_cols = df_new.columns.to_numpy()[['num_' in i for i in df_new.columns]]\n",
    "\n",
    "    X_train_clear = X_train[X_train[\"label\"] == 0]\n",
    "    X_train_iso = X_train_clear[isoforest_cols].to_numpy()\n",
    "\n",
    "    X_val_iso = X_val[isoforest_cols].to_numpy()\n",
    "    y_val_iso = X_val[\"label\"].to_numpy()\n",
    "    return X_train_iso, X_val_iso, y_val_iso, isoforest_cols, ohe_enc"
   ]
  },
  {
   "cell_type": "code",
   "execution_count": 10,
   "metadata": {
    "scrolled": false
   },
   "outputs": [
    {
     "name": "stdout",
     "output_type": "stream",
     "text": [
      "[2006, 2007, 2008] [2006, 2007, 2008]\n",
      "(466774, 20)\n",
      "(415471, 20)\n",
      "(374713, 20)\n"
     ]
    },
    {
     "name": "stderr",
     "output_type": "stream",
     "text": [
      "[Parallel(n_jobs=10)]: Using backend ThreadingBackend with 10 concurrent workers.\n",
      "[Parallel(n_jobs=10)]: Done   2 out of  10 | elapsed:    1.1s remaining:    4.4s\n",
      "[Parallel(n_jobs=10)]: Done  10 out of  10 | elapsed:    1.2s finished\n"
     ]
    },
    {
     "name": "stdout",
     "output_type": "stream",
     "text": [
      "Done fitting\n",
      "[2006] ROC-AUC     22.22% | PR-AUC-norm    40.04% | PR-AUC-anom    31.95%\n",
      "[2007] ROC-AUC     39.66% | PR-AUC-norm    86.18% | PR-AUC-anom    11.48%\n",
      "[2008] ROC-AUC     35.78% | PR-AUC-norm    89.72% | PR-AUC-anom    7.56%\n",
      "[2006, 2007, 2008] [2006, 2007, 2008] 10\n",
      "22.22\t39.66\t35.78\t\n",
      "40.04\t86.18\t89.72\t\n",
      "31.95\t11.48\t7.56\t\n",
      "===================================\n",
      "\n",
      "\n"
     ]
    },
    {
     "data": {
      "image/png": "[encoded data removed]",
      "text/plain": [
       "<Figure size 432x288 with 1 Axes>"
      ]
     },
     "metadata": {
      "needs_background": "light"
     },
     "output_type": "display_data"
    },
    {
     "name": "stdout",
     "output_type": "stream",
     "text": [
      "[2006, 2007, 2008] [2006, 2007, 2008]\n",
      "(466774, 20)\n",
      "(415471, 20)\n",
      "(374713, 20)\n"
     ]
    },
    {
     "name": "stderr",
     "output_type": "stream",
     "text": [
      "[Parallel(n_jobs=10)]: Using backend ThreadingBackend with 10 concurrent workers.\n",
      "[Parallel(n_jobs=10)]: Done   2 out of  10 | elapsed:    1.1s remaining:    4.3s\n",
      "[Parallel(n_jobs=10)]: Done  10 out of  10 | elapsed:    1.2s finished\n"
     ]
    },
    {
     "name": "stdout",
     "output_type": "stream",
     "text": [
      "Done fitting\n",
      "[2006] ROC-AUC     18.15% | PR-AUC-norm    40.04% | PR-AUC-anom    30.81%\n",
      "[2007] ROC-AUC     42.92% | PR-AUC-norm    88.08% | PR-AUC-anom    11.26%\n",
      "[2008] ROC-AUC     37.57% | PR-AUC-norm    89.91% | PR-AUC-anom    7.91%\n",
      "[2006, 2007, 2008] [2006, 2007, 2008] 15\n",
      "18.15\t42.92\t37.57\t\n",
      "40.04\t88.08\t89.91\t\n",
      "30.81\t11.26\t7.91\t\n",
      "===================================\n",
      "\n",
      "\n"
     ]
    },
    {
     "data": {
      "image/png": "[encoded data removed]",
      "text/plain": [
       "<Figure size 432x288 with 1 Axes>"
      ]
     },
     "metadata": {
      "needs_background": "light"
     },
     "output_type": "display_data"
    },
    {
     "name": "stdout",
     "output_type": "stream",
     "text": [
      "[2006, 2007, 2008] [2006, 2007, 2008]\n",
      "(466774, 20)\n",
      "(415471, 20)\n",
      "(374713, 20)\n"
     ]
    },
    {
     "name": "stderr",
     "output_type": "stream",
     "text": [
      "[Parallel(n_jobs=10)]: Using backend ThreadingBackend with 10 concurrent workers.\n",
      "[Parallel(n_jobs=10)]: Done   2 out of  10 | elapsed:    1.1s remaining:    4.4s\n",
      "[Parallel(n_jobs=10)]: Done  10 out of  10 | elapsed:    1.2s finished\n"
     ]
    },
    {
     "name": "stdout",
     "output_type": "stream",
     "text": [
      "Done fitting\n",
      "[2006] ROC-AUC     15.49% | PR-AUC-norm    37.90% | PR-AUC-anom    29.77%\n",
      "[2007] ROC-AUC     41.33% | PR-AUC-norm    87.64% | PR-AUC-anom    10.85%\n",
      "[2008] ROC-AUC     38.00% | PR-AUC-norm    90.20% | PR-AUC-anom    7.70%\n",
      "[2006, 2007, 2008] [2006, 2007, 2008] 20\n",
      "15.49\t41.33\t38.00\t\n",
      "37.90\t87.64\t90.20\t\n",
      "29.77\t10.85\t7.70\t\n",
      "===================================\n",
      "\n",
      "\n"
     ]
    },
    {
     "data": {
      "image/png": "[encoded data removed]",
      "text/plain": [
       "<Figure size 432x288 with 1 Axes>"
      ]
     },
     "metadata": {
      "needs_background": "light"
     },
     "output_type": "display_data"
    }
   ],
   "source": [
    "pair_years = []\n",
    "pair_years.append(([2006, 2007, 2008,], [2006, 2007, 2008, ]))\n",
    "    \n",
    "for rs in [10, 15, 20]:\n",
    "    for train_years, test_years in pair_years:\n",
    "        global_roc = []\n",
    "        global_pr_norm = []\n",
    "        global_pr_anom = []\n",
    "\n",
    "        print(train_years, test_years)\n",
    "        X_train_iso, X_val_iso, y_val_iso, isoforest_cols, ohe_enc = get_train(train_years)\n",
    "\n",
    "        clf = IsolationForest(random_state=rs,\n",
    "                          n_estimators=101,\n",
    "                          max_samples=1.0,\n",
    "                          max_features=1.0,\n",
    "                          verbose=1,\n",
    "                          warm_start=False,\n",
    "                          n_jobs=10)\n",
    "        clf.fit(X_train_iso)\n",
    "\n",
    "        del X_train_iso\n",
    "            \n",
    "        print(\"Done fitting\")\n",
    "        for year in test_years:\n",
    "            df_year = load_test_year(year)\n",
    "            df_year = rename_columns(df_year)\n",
    "            df_test, _ = preprocess(df_year, ohe_enc)\n",
    "\n",
    "            X_test = df_test[isoforest_cols].to_numpy()\n",
    "            y_test = df_test[\"label\"].to_numpy()\n",
    "\n",
    "            X_test = np.nan_to_num(X_test)\n",
    "\n",
    "            predict_test = (-1) * clf.score_samples(X_test)\n",
    "            predict_test = np.nan_to_num(predict_test, 0)\n",
    "            y_test = np.nan_to_num(y_test, 0)\n",
    "            print_results(y_test, predict_test, text=str(year), normalize=None, th=0.35)\n",
    "            del df_test, df_year, X_test\n",
    "\n",
    "        print(train_years, test_years, rs)\n",
    "        for i, year in enumerate(test_years):\n",
    "            print(\"%.2f\\t\" % (global_roc[i]), end = '')\n",
    "        print(\"\")\n",
    "        for i, year in enumerate(test_years):\n",
    "            print(\"%.2f\\t\" % (global_pr_norm[i]), end = '')\n",
    "        print(\"\")\n",
    "\n",
    "        for i, year in enumerate(test_years):\n",
    "            print(\"%.2f\\t\" % (global_pr_anom[i]), end = '')\n",
    "        print(\"\\n===================================\\n\\n\")\n",
    "\n",
    "        plt.plot(global_roc, label='ROC')\n",
    "        plt.plot(global_pr_norm, label=\"normals\")\n",
    "        plt.plot(global_pr_anom, label='anom')\n",
    "        plt.legend()\n",
    "        plt.show()\n"
   ]
  },
  {
   "cell_type": "markdown",
   "metadata": {},
   "source": []
  }
 ],
 "metadata": {
  "kernelspec": {
   "display_name": "Python 3.8.12 ('env_py_3.8')",
   "language": "python",
   "name": "python3"
  },
  "language_info": {
   "codemirror_mode": {
    "name": "ipython",
    "version": 3
   },
   "file_extension": ".py",
   "mimetype": "text/x-python",
   "name": "python",
   "nbconvert_exporter": "python",
   "pygments_lexer": "ipython3",
   "version": "3.8.12"
  },
  "vscode": {
   "interpreter": {
    "hash": "a449927a1e23d59648888034a3ac7b7bcc61de3c536e2145e0eb73b4a17ef325"
   }
  }
 },
 "nbformat": 4,
 "nbformat_minor": 2
}
